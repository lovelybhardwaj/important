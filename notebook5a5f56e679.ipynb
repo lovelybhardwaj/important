{
 "cells": [
  {
   "cell_type": "code",
   "execution_count": 1,
   "id": "852415a5",
   "metadata": {
    "execution": {
     "iopub.execute_input": "2023-06-30T12:14:46.412245Z",
     "iopub.status.busy": "2023-06-30T12:14:46.411222Z",
     "iopub.status.idle": "2023-06-30T12:14:48.750066Z",
     "shell.execute_reply": "2023-06-30T12:14:48.748426Z"
    },
    "papermill": {
     "duration": 2.347734,
     "end_time": "2023-06-30T12:14:48.754416",
     "exception": false,
     "start_time": "2023-06-30T12:14:46.406682",
     "status": "completed"
    },
    "tags": []
   },
   "outputs": [
    {
     "name": "stdout",
     "output_type": "stream",
     "text": [
      "Cloning into 'important'...\r\n",
      "remote: Enumerating objects: 51, done.\u001b[K\r\n",
      "remote: Counting objects: 100% (51/51), done.\u001b[K\r\n",
      "remote: Compressing objects: 100% (40/40), done.\u001b[K\r\n",
      "remote: Total 51 (delta 15), reused 0 (delta 0), pack-reused 0\u001b[K\r\n",
      "Unpacking objects: 100% (51/51), 1.44 MiB | 2.67 MiB/s, done.\r\n"
     ]
    }
   ],
   "source": [
    "!git clone https://github.com/lovelybhardwaj/important"
   ]
  }
 ],
 "metadata": {
  "kernelspec": {
   "display_name": "Python 3",
   "language": "python",
   "name": "python3"
  },
  "language_info": {
   "codemirror_mode": {
    "name": "ipython",
    "version": 3
   },
   "file_extension": ".py",
   "mimetype": "text/x-python",
   "name": "python",
   "nbconvert_exporter": "python",
   "pygments_lexer": "ipython3",
   "version": "3.10.10"
  },
  "papermill": {
   "default_parameters": {},
   "duration": 16.802901,
   "end_time": "2023-06-30T12:14:49.680483",
   "environment_variables": {},
   "exception": null,
   "input_path": "__notebook__.ipynb",
   "output_path": "__notebook__.ipynb",
   "parameters": {},
   "start_time": "2023-06-30T12:14:32.877582",
   "version": "2.4.0"
  }
 },
 "nbformat": 4,
 "nbformat_minor": 5
}
